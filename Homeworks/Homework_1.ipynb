{
  "nbformat": 4,
  "nbformat_minor": 0,
  "metadata": {
    "colab": {
      "provenance": []
    },
    "kernelspec": {
      "name": "python3",
      "display_name": "Python 3"
    },
    "language_info": {
      "name": "python"
    }
  },
  "cells": [
    {
      "cell_type": "code",
      "execution_count": null,
      "metadata": {
        "id": "Q7Qj3AhFctld"
      },
      "outputs": [],
      "source": [
        "# importing requuired library\n",
        "import numpy as np\n",
        "from scipy.optimize import minimize"
      ]
    },
    {
      "cell_type": "code",
      "source": [
        "# defining equation and constraint\n",
        "def objective(x):\n",
        "  x1=x[0]\n",
        "  x2=x[1]\n",
        "  x3=x[2]\n",
        "  x4=x[3]\n",
        "  x5=x[4]\n",
        "  return ((x1-x2)**2)+((x2+x3-2)**2)+((x4-1)**2)+((x5-1)**2)\n",
        "def constraint1 (x):\n",
        "  x1=x[0]\n",
        "  x2=x[1]\n",
        "  x3=x[2]\n",
        "  x4=x[3]\n",
        "  x5=x[4]\n",
        "  return x1+(3*x2)\n",
        "def constraint2 (x):\n",
        "  x1=x[0]\n",
        "  x2=x[1]\n",
        "  x3=x[2]\n",
        "  x4=x[3]\n",
        "  x5=x[4]\n",
        "  return x3+x4-(2*x5)\n",
        "def constraint3 (x):\n",
        "  x1=x[0]\n",
        "  x2=x[1]\n",
        "  x3=x[2]\n",
        "  x4=x[3]\n",
        "  x5=x[4]\n",
        "  return x2-x5\n"
      ],
      "metadata": {
        "id": "EQjP2lNBdz0g"
      },
      "execution_count": null,
      "outputs": []
    },
    {
      "cell_type": "code",
      "source": [
        "# intial guess\n",
        "x0 = [1,2,3,4,5]\n",
        "print (objective(x0))"
      ],
      "metadata": {
        "colab": {
          "base_uri": "https://localhost:8080/"
        },
        "id": "egIBWUjKgs63",
        "outputId": "ca96868d-586b-42a8-9b68-cebaeda9b917"
      },
      "execution_count": null,
      "outputs": [
        {
          "output_type": "stream",
          "name": "stdout",
          "text": [
            "35\n"
          ]
        }
      ]
    },
    {
      "cell_type": "code",
      "source": [
        "# defining bounds and type of constraint\n",
        "b=(-10,10)\n",
        "bnds = (b,b,b,b,b)\n",
        "con1 = {'type' : 'eq', 'fun' : constraint1}\n",
        "con2 = {'type' : 'eq', 'fun' : constraint2}\n",
        "con3 = {'type' : 'eq', 'fun' : constraint3}\n",
        "cons = [con1,con2,con3]"
      ],
      "metadata": {
        "id": "w_3VMfYIhzHb"
      },
      "execution_count": null,
      "outputs": []
    },
    {
      "cell_type": "code",
      "source": [
        "# minimizing the given equation\n",
        "sol = minimize(objective,x0,method='SLSQP',bounds=bnds,constraints=cons)"
      ],
      "metadata": {
        "id": "VzMqoV1MjZG-"
      },
      "execution_count": null,
      "outputs": []
    },
    {
      "cell_type": "code",
      "source": [
        "#printing solution\n",
        "print(sol)"
      ],
      "metadata": {
        "colab": {
          "base_uri": "https://localhost:8080/"
        },
        "id": "rbup3Q3ulJKz",
        "outputId": "2a319c68-e2e6-4ab1-83a5-ff3eb891f6e3"
      },
      "execution_count": null,
      "outputs": [
        {
          "output_type": "stream",
          "name": "stdout",
          "text": [
            " message: Optimization terminated successfully\n",
            " success: True\n",
            "  status: 0\n",
            "     fun: 4.09302325588931\n",
            "       x: [-7.674e-01  2.558e-01  6.279e-01 -1.163e-01  2.558e-01]\n",
            "     nit: 7\n",
            "     jac: [-2.046e+00 -1.880e-01 -2.234e+00 -2.232e+00 -1.489e+00]\n",
            "    nfev: 44\n",
            "    njev: 7\n"
          ]
        }
      ]
    },
    {
      "cell_type": "code",
      "source": [
        "#printing value of x\n",
        "print(sol.x)"
      ],
      "metadata": {
        "colab": {
          "base_uri": "https://localhost:8080/"
        },
        "id": "2qD9gljNoTVd",
        "outputId": "6dac847a-9063-458a-c68e-7437c7701760"
      },
      "execution_count": null,
      "outputs": [
        {
          "output_type": "stream",
          "name": "stdout",
          "text": [
            "[-0.76743912  0.25581304  0.62791188 -0.1162858   0.25581304]\n"
          ]
        }
      ]
    },
    {
      "cell_type": "code",
      "source": [
        "#printing value of function\n",
        "print(sol.fun)"
      ],
      "metadata": {
        "colab": {
          "base_uri": "https://localhost:8080/"
        },
        "id": "WIqOnM9np8FN",
        "outputId": "d990f517-946d-43e8-f487-fa0913c0fa90"
      },
      "execution_count": null,
      "outputs": [
        {
          "output_type": "stream",
          "name": "stdout",
          "text": [
            "4.09302325588931\n"
          ]
        }
      ]
    },
    {
      "cell_type": "code",
      "source": [
        "# changing intial guess\n",
        "x0 = [-2,-1,0,1,2]\n",
        "print (objective(x0))"
      ],
      "metadata": {
        "colab": {
          "base_uri": "https://localhost:8080/"
        },
        "id": "VMrduH0umynU",
        "outputId": "28895c35-4a3c-470b-fc59-e2214089af0d"
      },
      "execution_count": null,
      "outputs": [
        {
          "output_type": "stream",
          "name": "stdout",
          "text": [
            "11\n"
          ]
        }
      ]
    },
    {
      "cell_type": "code",
      "source": [
        "# minimizing given equation with updated intial guess\n",
        "sol = minimize(objective,x0,method='SLSQP',bounds=bnds,constraints=cons)"
      ],
      "metadata": {
        "id": "7iBwbTJFoBx4"
      },
      "execution_count": null,
      "outputs": []
    },
    {
      "cell_type": "code",
      "source": [
        "# printing solution\n",
        "print(sol)"
      ],
      "metadata": {
        "colab": {
          "base_uri": "https://localhost:8080/"
        },
        "id": "rPOM0bfVoKNt",
        "outputId": "8cd79545-5329-4966-e961-a48202308de8"
      },
      "execution_count": null,
      "outputs": [
        {
          "output_type": "stream",
          "name": "stdout",
          "text": [
            " message: Optimization terminated successfully\n",
            " success: True\n",
            "  status: 0\n",
            "     fun: 4.093023255813954\n",
            "       x: [-7.674e-01  2.558e-01  6.279e-01 -1.163e-01  2.558e-01]\n",
            "     nit: 6\n",
            "     jac: [-2.047e+00 -1.860e-01 -2.233e+00 -2.233e+00 -1.488e+00]\n",
            "    nfev: 37\n",
            "    njev: 6\n"
          ]
        }
      ]
    },
    {
      "cell_type": "code",
      "source": [
        "# printing value of x\n",
        "print(sol.x)"
      ],
      "metadata": {
        "colab": {
          "base_uri": "https://localhost:8080/"
        },
        "id": "1Jjaaix1ob_4",
        "outputId": "3004719b-2da3-49a7-dd2c-4b2f2f07bcb0"
      },
      "execution_count": null,
      "outputs": [
        {
          "output_type": "stream",
          "name": "stdout",
          "text": [
            "[-0.76744186  0.25581395  0.62790697 -0.11627906  0.25581395]\n"
          ]
        }
      ]
    },
    {
      "cell_type": "code",
      "source": [
        "# printing value of function\n",
        "print(sol.fun)"
      ],
      "metadata": {
        "colab": {
          "base_uri": "https://localhost:8080/"
        },
        "id": "EakF94i0qDuG",
        "outputId": "4ca301e9-5800-40f1-990f-e5f277f0d0f1"
      },
      "execution_count": null,
      "outputs": [
        {
          "output_type": "stream",
          "name": "stdout",
          "text": [
            "4.093023255813954\n"
          ]
        }
      ]
    },
    {
      "cell_type": "code",
      "source": [
        "# changing intial guess does not affect value of function, hence we have reached global minima of the function"
      ],
      "metadata": {
        "id": "qD3PMKla36Lw"
      },
      "execution_count": null,
      "outputs": []
    }
  ]
}